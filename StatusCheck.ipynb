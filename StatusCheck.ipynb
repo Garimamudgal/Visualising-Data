{
 "cells": [
  {
   "cell_type": "code",
   "execution_count": 90,
   "metadata": {},
   "outputs": [],
   "source": [
    "import pandas as pd\n",
    "import numpy as np\n",
    "import json\n",
    "import csv\n",
    "import os, json\n",
    "import plotly.express as px\n",
    "from datetime import datetime\n",
    "import time\n",
    "import sys\n",
    "if sys.version_info[0] < 3:\n",
    "    from StringIO import StringIO\n",
    "from sklearn.preprocessing import MinMaxScaler\n",
    "import matplotlib.pyplot as plot"
   ]
  },
  {
   "cell_type": "code",
   "execution_count": 91,
   "metadata": {
    "scrolled": true
   },
   "outputs": [
    {
     "name": "stderr",
     "output_type": "stream",
     "text": [
      "C:\\Users\\Garima-PC\\AppData\\Roaming\\Python\\Python37\\site-packages\\ipykernel_launcher.py:5: SettingWithCopyWarning:\n",
      "\n",
      "\n",
      "A value is trying to be set on a copy of a slice from a DataFrame.\n",
      "Try using .loc[row_indexer,col_indexer] = value instead\n",
      "\n",
      "See the caveats in the documentation: http://pandas.pydata.org/pandas-docs/stable/indexing.html#indexing-view-versus-copy\n",
      "\n",
      "C:\\Users\\Garima-PC\\AppData\\Roaming\\Python\\Python37\\site-packages\\ipykernel_launcher.py:6: SettingWithCopyWarning:\n",
      "\n",
      "\n",
      "A value is trying to be set on a copy of a slice from a DataFrame.\n",
      "Try using .loc[row_indexer,col_indexer] = value instead\n",
      "\n",
      "See the caveats in the documentation: http://pandas.pydata.org/pandas-docs/stable/indexing.html#indexing-view-versus-copy\n",
      "\n",
      "C:\\Users\\Garima-PC\\AppData\\Roaming\\Python\\Python37\\site-packages\\ipykernel_launcher.py:7: SettingWithCopyWarning:\n",
      "\n",
      "\n",
      "A value is trying to be set on a copy of a slice from a DataFrame.\n",
      "Try using .loc[row_indexer,col_indexer] = value instead\n",
      "\n",
      "See the caveats in the documentation: http://pandas.pydata.org/pandas-docs/stable/indexing.html#indexing-view-versus-copy\n",
      "\n",
      "C:\\Users\\Garima-PC\\AppData\\Roaming\\Python\\Python37\\site-packages\\ipykernel_launcher.py:9: SettingWithCopyWarning:\n",
      "\n",
      "\n",
      "A value is trying to be set on a copy of a slice from a DataFrame.\n",
      "Try using .loc[row_indexer,col_indexer] = value instead\n",
      "\n",
      "See the caveats in the documentation: http://pandas.pydata.org/pandas-docs/stable/indexing.html#indexing-view-versus-copy\n",
      "\n",
      "C:\\Users\\Garima-PC\\AppData\\Roaming\\Python\\Python37\\site-packages\\ipykernel_launcher.py:10: SettingWithCopyWarning:\n",
      "\n",
      "\n",
      "A value is trying to be set on a copy of a slice from a DataFrame.\n",
      "Try using .loc[row_indexer,col_indexer] = value instead\n",
      "\n",
      "See the caveats in the documentation: http://pandas.pydata.org/pandas-docs/stable/indexing.html#indexing-view-versus-copy\n",
      "\n"
     ]
    },
    {
     "name": "stdout",
     "output_type": "stream",
     "text": [
      "     Instance                Time     Correct Incorrect\n",
      "115         1 2020-02-12 16:44:00         PXU   LZVYWFN\n",
      "172         2 2020-02-12 16:46:17        PXUN       YWF\n",
      "188         3 2020-02-12 16:47:37        PXUN         L\n",
      "201         4 2020-02-12 16:48:22        PXUN         Z\n",
      "220         5 2020-02-12 16:49:33       PXUNI        WL\n",
      "237         6 2020-02-12 16:50:24       PXUNI       YTZ\n",
      "271         7 2020-02-12 16:51:53      PXUNIW        TY\n",
      "280         8 2020-02-12 16:52:18     PXUNIWT         Y\n",
      "307         9 2020-02-12 16:53:25     PXUNIWT       FYZ\n",
      "312        10 2020-02-12 16:53:38     PXUNIWT        YZ\n",
      "369        11 2020-02-12 16:56:39  PXUNIWTZVF          \n"
     ]
    }
   ],
   "source": [
    "event_file = \"data/events_log.json-1581525525.json\"\n",
    "godot_data = pd.read_json(event_file, lines=True)\n",
    "message_df = pd.DataFrame()\n",
    "message_df = godot_data[godot_data['Event_Type'].str.contains('Status-check')]\n",
    "message_df['Time'] = pd.to_datetime(message_df['Time'],unit='s')\n",
    "message_df['Correct'] = message_df['Correct Pieces'].astype('str') \n",
    "message_df['Incorrect'] = message_df['Incorrect pieces'].astype('str') \n",
    "#sprint(message_df.dtypes)\n",
    "message_df['Correct'] = message_df['Correct'].str.replace('\\W', '')\n",
    "message_df['Incorrect'] = message_df['Incorrect'].str.replace('\\W', '')\n",
    "message_df.insert(0, 'Instance', range(1, 1 + len(message_df)))\n",
    "df = pd.DataFrame()\n",
    "#df = message_df[['Instance','Time','Correct Pieces','Incorrect pieces','Correct','Incorrect']]\n",
    "df = message_df[['Instance','Time','Correct','Incorrect']]\n",
    "df.to_csv(\"Status_check.csv\")\n",
    "print(df)"
   ]
  },
  {
   "cell_type": "code",
   "execution_count": null,
   "metadata": {},
   "outputs": [],
   "source": []
  },
  {
   "cell_type": "code",
   "execution_count": 92,
   "metadata": {},
   "outputs": [
    {
     "name": "stdout",
     "output_type": "stream",
     "text": [
      "     Instance                Time     Correct Incorrect  Correct_Length  \\\n",
      "115         1 2020-02-12 16:44:00         PXU   LZVYWFN               3   \n",
      "172         2 2020-02-12 16:46:17        PXUN       YWF               4   \n",
      "188         3 2020-02-12 16:47:37        PXUN         L               4   \n",
      "201         4 2020-02-12 16:48:22        PXUN         Z               4   \n",
      "220         5 2020-02-12 16:49:33       PXUNI        WL               5   \n",
      "237         6 2020-02-12 16:50:24       PXUNI       YTZ               5   \n",
      "271         7 2020-02-12 16:51:53      PXUNIW        TY               6   \n",
      "280         8 2020-02-12 16:52:18     PXUNIWT         Y               7   \n",
      "307         9 2020-02-12 16:53:25     PXUNIWT       FYZ               7   \n",
      "312        10 2020-02-12 16:53:38     PXUNIWT        YZ               7   \n",
      "369        11 2020-02-12 16:56:39  PXUNIWTZVF                        10   \n",
      "\n",
      "     Incorrect_Length  \n",
      "115                 7  \n",
      "172                 3  \n",
      "188                 1  \n",
      "201                 1  \n",
      "220                 2  \n",
      "237                 3  \n",
      "271                 2  \n",
      "280                 1  \n",
      "307                 3  \n",
      "312                 2  \n",
      "369                 0  \n"
     ]
    },
    {
     "name": "stderr",
     "output_type": "stream",
     "text": [
      "C:\\Users\\Garima-PC\\AppData\\Roaming\\Python\\Python37\\site-packages\\ipykernel_launcher.py:1: SettingWithCopyWarning:\n",
      "\n",
      "\n",
      "A value is trying to be set on a copy of a slice from a DataFrame.\n",
      "Try using .loc[row_indexer,col_indexer] = value instead\n",
      "\n",
      "See the caveats in the documentation: http://pandas.pydata.org/pandas-docs/stable/indexing.html#indexing-view-versus-copy\n",
      "\n",
      "C:\\Users\\Garima-PC\\AppData\\Roaming\\Python\\Python37\\site-packages\\ipykernel_launcher.py:2: SettingWithCopyWarning:\n",
      "\n",
      "\n",
      "A value is trying to be set on a copy of a slice from a DataFrame.\n",
      "Try using .loc[row_indexer,col_indexer] = value instead\n",
      "\n",
      "See the caveats in the documentation: http://pandas.pydata.org/pandas-docs/stable/indexing.html#indexing-view-versus-copy\n",
      "\n"
     ]
    }
   ],
   "source": [
    "df['Correct_Length']=df['Correct'].str.len()\n",
    "df['Incorrect_Length']=df['Incorrect'].str.len()\n",
    "#print(df)\n",
    "final_df= df\n",
    "print(final_df)"
   ]
  },
  {
   "cell_type": "code",
   "execution_count": 94,
   "metadata": {},
   "outputs": [
    {
     "data": {
      "image/png": "[encoded data removed]",
      "text/plain": [
       "<Figure size 432x288 with 1 Axes>"
      ]
     },
     "metadata": {
      "needs_background": "light"
     },
     "output_type": "display_data"
    }
   ],
   "source": [
    "#print(df)\n",
    "temp_data =df[['Correct_Length','Incorrect_Length']]\n",
    "#print(temp_data)\n",
    "dataFrame   = pd.DataFrame(temp_data);\n",
    "dataFrame.index =df['Time']\n",
    "#print(dataFrame.index)\n",
    "dataFrame.plot(kind='area', stacked=False)\n",
    "plot.show(block=True);"
   ]
  },
  {
   "cell_type": "code",
   "execution_count": null,
   "metadata": {},
   "outputs": [],
   "source": []
  },
  {
   "cell_type": "code",
   "execution_count": null,
   "metadata": {},
   "outputs": [],
   "source": []
  },
  {
   "cell_type": "code",
   "execution_count": null,
   "metadata": {},
   "outputs": [],
   "source": []
  }
 ],
 "metadata": {
  "kernelspec": {
   "display_name": "Python 3",
   "language": "python",
   "name": "python3"
  },
  "language_info": {
   "codemirror_mode": {
    "name": "ipython",
    "version": 3
   },
   "file_extension": ".py",
   "mimetype": "text/x-python",
   "name": "python",
   "nbconvert_exporter": "python",
   "pygments_lexer": "ipython3",
   "version": "3.7.0"
  }
 },
 "nbformat": 4,
 "nbformat_minor": 2
}
